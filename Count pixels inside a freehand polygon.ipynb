{
 "cells": [
  {
   "cell_type": "markdown",
   "id": "40b8516c",
   "metadata": {},
   "source": [
    "# freehand_polygon_counter — count pixels inside a freehand polygon (full-res)\n",
    "\n",
    "**Purpose:** Open a full-resolution image, let you draw a freehand polygon, and report the pixel count **in original resolution** (no post-resize blur in the mask).\n",
    "\n",
    "**Controls**\n",
    "- **Hold LEFT mouse** — draw the polygon freehand  \n",
    "- **Release + RIGHT click** — finish polygon & count pixels  \n",
    "- **r** — reset view  \n",
    "- **q** or **Esc** — quit\n",
    "\n",
    "**Tip:** The image is displayed downscaled to fit your screen, but the mask and pixel count are computed at the **original** resolution.\n",
    "\n"
   ]
  },
  {
   "cell_type": "code",
   "execution_count": null,
   "id": "1dd55c05",
   "metadata": {},
   "outputs": [],
   "source": [
    "from pathlib import Path\n",
    "import sys\n",
    "\n",
    "import cv2\n",
    "import numpy as np"
   ]
  },
  {
   "cell_type": "markdown",
   "id": "e00b8aad",
   "metadata": {},
   "source": [
    "## Determine display scale (without changing the counting resolution)\n",
    "\n",
    "We detect your screen size (via `tkinter` if available) and compute a **display scale ≤ 1** so the image fits on screen.  \n",
    "The polygon is always recorded in **original pixel coordinates**, so counting is done on the full-resolution mask.\n"
   ]
  },
  {
   "cell_type": "code",
   "execution_count": null,
   "id": "7f034aa4",
   "metadata": {},
   "outputs": [],
   "source": [
    "try:                                               # works on Windows / macOS / X11\n",
    "    import tkinter as tk\n",
    "\n",
    "    def _screen_size() -> tuple[int, int]:\n",
    "        root = tk.Tk()\n",
    "        root.withdraw()\n",
    "        w, h = root.winfo_screenwidth(), root.winfo_screenheight()\n",
    "        root.destroy()\n",
    "        return w, h\n",
    "except Exception:                                 \n",
    "    def _screen_size() -> tuple[int, int]:\n",
    "        return 1920, 1080                         # safe default\n"
   ]
  },
  {
   "cell_type": "markdown",
   "id": "c9633261",
   "metadata": {},
   "source": [
    "## FreehandCounter — draw, close, count\n",
    "\n",
    "- Maintains `self.base` (original image) and `self.mask` (original-size mask).\n",
    "- Displays a scaled copy (`self.show`) using `INTER_AREA` for clean downscaling.\n",
    "- Mouse callback:\n",
    "  - left-drag appends points (stored in **original** coordinates)\n",
    "  - right-click closes and fills polygon → counts pixels in the full-res mask\n",
    "- `r` resets the display; `q`/`Esc` quits.\n"
   ]
  },
  {
   "cell_type": "code",
   "execution_count": null,
   "id": "2ec621b9",
   "metadata": {},
   "outputs": [],
   "source": [
    "class FreehandCounter:\n",
    "    def __init__(self, img: np.ndarray):\n",
    "        self.base = img                             # full-resolution reference\n",
    "        screen_w, screen_h = _screen_size()\n",
    "\n",
    "        h, w = img.shape[:2]\n",
    "        self.scale = min(1.0, screen_w / w, screen_h / h)  # ≤ 1 → shrink only\n",
    "        self.disp_size = (int(w * self.scale), int(h * self.scale))\n",
    "\n",
    "        # working copy that the user actually sees\n",
    "        self.show = cv2.resize(img, self.disp_size, interpolation=cv2.INTER_AREA)\n",
    "        self.mask  = np.zeros(img.shape[:2], np.uint8)     # same size as base\n",
    "        self.points: list[tuple[int, int]] = []            # polygon vertices (orig px)\n",
    "        self.drawing = False\n",
    "\n",
    "        cv2.namedWindow(\"Freehand Counter\", cv2.WINDOW_AUTOSIZE)\n",
    "        cv2.imshow(\"Freehand Counter\", self.show)\n",
    "        cv2.setMouseCallback(\"Freehand Counter\", self._mouse_cb)\n",
    "\n",
    "    # coordinate conversion \n",
    "    def _to_orig(self, x: int, y: int) -> tuple[int, int]:\n",
    "        \"\"\"display->original coordinate system\"\"\"\n",
    "        return int(round(x / self.scale)), int(round(y / self.scale))\n",
    "\n",
    "    def _to_disp(self, x: int, y: int) -> tuple[int, int]:\n",
    "        \"\"\"original->display coordinate system\"\"\"\n",
    "        return int(round(x * self.scale)), int(round(y * self.scale))\n",
    "\n",
    "    # mouse callback\n",
    "    def _mouse_cb(self, event, x, y, flags, _):\n",
    "        if event == cv2.EVENT_LBUTTONDOWN:\n",
    "            self.drawing = True\n",
    "            self.points = [self._to_orig(x, y)]\n",
    "        elif event == cv2.EVENT_MOUSEMOVE and self.drawing:\n",
    "            ox, oy = self._to_orig(x, y)\n",
    "            self.points.append((ox, oy))\n",
    "            cv2.line(\n",
    "                self.show,\n",
    "                self._to_disp(*self.points[-2]),\n",
    "                (x, y),                       # current point already in display px\n",
    "                (0, 255, 255), 1\n",
    "            )\n",
    "        elif event == cv2.EVENT_LBUTTONUP and self.drawing:\n",
    "            self.drawing = False\n",
    "        elif event == cv2.EVENT_RBUTTONDOWN and self.points:\n",
    "            self._finish_polygon()\n",
    "\n",
    "    # close & count \n",
    "    def _finish_polygon(self):\n",
    "        if len(self.points) < 3:\n",
    "            print(\"Need a closed shape. Hold left button to draw.\")\n",
    "            self._reset()\n",
    "            return\n",
    "\n",
    "        pts = np.array(self.points, dtype=np.int32)\n",
    "        self.mask[:] = 0\n",
    "        cv2.fillPoly(self.mask, [pts], 255)\n",
    "        inside = int((self.mask > 0).sum())\n",
    "        print(f\"Pixels inside polygon (full-res): {inside}\")\n",
    "\n",
    "        overlay = self.base.copy()\n",
    "        overlay[self.mask > 0] = (0, 0, 255)                  # paint selection red\n",
    "        blended = cv2.addWeighted(self.base, 0.6, overlay, 0.4, 0)\n",
    "\n",
    "        self.show = cv2.resize(blended, self.disp_size, interpolation=cv2.INTER_AREA)\n",
    "        self.points.clear()\n",
    "\n",
    "    # reset \n",
    "    def _reset(self):\n",
    "        self.show = cv2.resize(self.base, self.disp_size, interpolation=cv2.INTER_AREA)\n",
    "        self.points.clear()\n",
    "        self.drawing = False\n",
    "\n",
    "    # main loop \n",
    "    def run(self):\n",
    "        print(\"Hold left-click to draw, right-click to finish, r to reset, q/Esc to quit\")\n",
    "        while True:\n",
    "            cv2.imshow(\"Freehand Counter\", self.show)\n",
    "            k = cv2.waitKey(20) & 0xFF\n",
    "            if k in (ord(\"q\"), 27):\n",
    "                break\n",
    "            elif k == ord(\"r\"):\n",
    "                self._reset()\n",
    "        cv2.destroyAllWindows()"
   ]
  },
  {
   "cell_type": "markdown",
   "id": "dc7a21c5",
   "metadata": {},
   "source": [
    "## Quick start (Notebook)\n",
    "\n",
    "Specify an image path and run the cell to launch the interactive window.  \n",
    "(If your environment blocks GUI windows, run this as a CLI script instead.)\n"
   ]
  },
  {
   "cell_type": "code",
   "execution_count": null,
   "id": "a3db3239",
   "metadata": {},
   "outputs": [],
   "source": [
    "image_path = \"path/to/your/image.jpg\" \n",
    "\n",
    "img = cv2.imread(str(image_path))\n",
    "if img is None:\n",
    "    raise FileNotFoundError(f\"Cannot open: {image_path}\")\n",
    "\n",
    "FreehandCounter(img).run()\n"
   ]
  },
  {
   "cell_type": "markdown",
   "id": "8e81d90f",
   "metadata": {},
   "source": [
    "## CLI entry point (optional)\n",
    "\n",
    "If you prefer to run from the command line, keep the following cell.  \n",
    "In a script file, run: `python freehand_polygon_counter.py path/to/image.jpg`\n"
   ]
  },
  {
   "cell_type": "code",
   "execution_count": null,
   "id": "e8e295b7",
   "metadata": {},
   "outputs": [],
   "source": [
    "def main(path: Path):\n",
    "    img = cv2.imread(str(path))\n",
    "    if img is None:\n",
    "        print(\"Cannot open:\", path)\n",
    "        sys.exit(1)\n",
    "    FreehandCounter(img).run()\n",
    "\n",
    "\n",
    "if __name__ == \"__main__\":\n",
    "    if len(sys.argv) != 2:\n",
    "        print(\"Usage: python freehand_polygon_counter.py image.jpg\")\n",
    "        sys.exit(1)\n",
    "    main(Path(sys.argv[1]))\n"
   ]
  }
 ],
 "metadata": {
  "language_info": {
   "name": "python",
   "version": "3"
  }
 },
 "nbformat": 4,
 "nbformat_minor": 5
}
